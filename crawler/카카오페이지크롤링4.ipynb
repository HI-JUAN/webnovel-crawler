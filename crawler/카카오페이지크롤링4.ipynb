{
 "cells": [
  {
   "cell_type": "code",
   "execution_count": 1,
   "id": "8b33a67f",
   "metadata": {},
   "outputs": [
    {
     "name": "stderr",
     "output_type": "stream",
     "text": [
      "댓글 수집 중:  81%|█████████████████████████████████████████████████▎           | 8075/10000 [2:30:13<35:48,  1.12s/개]"
     ]
    },
    {
     "name": "stdout",
     "output_type": "stream",
     "text": [
      "더 이상 페이지 없음.\n"
     ]
    },
    {
     "name": "stderr",
     "output_type": "stream",
     "text": [
      "\n"
     ]
    },
    {
     "name": "stdout",
     "output_type": "stream",
     "text": [
      "CSV 저장 완료\n"
     ]
    }
   ],
   "source": [
    "from selenium import webdriver\n",
    "from selenium.webdriver.common.by import By\n",
    "from selenium.webdriver.chrome.options import Options\n",
    "from selenium.common.exceptions import NoSuchElementException\n",
    "import time\n",
    "import csv\n",
    "from tqdm import tqdm\n",
    "\n",
    "# 크롬 옵션 설정 (헤드리스: 화면 없이 실행)\n",
    "options = Options()\n",
    "options.add_argument('--headless')\n",
    "options.add_argument('--disable-gpu')\n",
    "options.add_argument('--no-sandbox')\n",
    "options.add_argument('--window-size=1920,1080')\n",
    "\n",
    "# 드라이버 로딩\n",
    "driver = webdriver.Chrome(options=options)\n",
    "\n",
    "# 크롤링할 페이지 열기\n",
    "url = \"https://page.kakao.com/content/48787313\"\n",
    "driver.get(url)\n",
    "time.sleep(5)\n",
    "\n",
    "# results 초기화\n",
    "results = []\n",
    "\n",
    "# 수집 예상 총 개수 지정 (예: 250개 수집 목표)\n",
    "MAX_COMMENTS = 10000\n",
    "progress_bar = tqdm(total=MAX_COMMENTS, desc=\"댓글 수집 중\", unit=\"개\")\n",
    "\n",
    "while True:\n",
    "    for i in range(1, 26):  # 댓글+화수 쌍 최대 25개까지\n",
    "        try:\n",
    "            comment_xpath = f'//*[@id=\"__next\"]/div/div[2]/div[1]/div/div[2]/div[2]/div[3]/div/div[2]/div[{i}]/div/div[1]/div[2]/div[2]/div[1]/span[1]'\n",
    "            episode_xpath = f'//*[@id=\"__next\"]/div/div[2]/div[1]/div/div[2]/div[2]/div[3]/div/div[2]/div[{i}]/div/div[1]/div[2]/div[2]/div[1]/span[2]'\n",
    "\n",
    "            comment = driver.find_element(By.XPATH, comment_xpath).text.strip()\n",
    "            episode = driver.find_element(By.XPATH, episode_xpath).text.strip()\n",
    "\n",
    "            results.append([comment, episode])\n",
    "            progress_bar.update(1)\n",
    "            \n",
    "            if len(results) >= MAX_COMMENTS:\n",
    "                break\n",
    "                \n",
    "        except NoSuchElementException:\n",
    "            continue\n",
    "\n",
    "    if len(results) >= MAX_COMMENTS:\n",
    "        break\n",
    "            \n",
    "    # 다음 페이지 버튼 찾기\n",
    "    try:\n",
    "        next_page_index = len(results) + 1  # 대략적인 위치 추정\n",
    "        next_button_xpath = f'//*[@id=\"__next\"]/div/div[2]/div[1]/div/div[2]/div[2]/div[3]/div/div[2]/div[{next_page_index}]'\n",
    "\n",
    "        next_button = driver.find_element(By.XPATH, next_button_xpath)\n",
    "        driver.execute_script(\"arguments[0].scrollIntoView(true);\", next_button)\n",
    "        next_button.click()\n",
    "        time.sleep(2)\n",
    "    except NoSuchElementException:\n",
    "        print(\"더 이상 페이지 없음.\")\n",
    "        break\n",
    "\n",
    "progress_bar.close()  # ✅ 프로그레스바 닫기        \n",
    "        \n",
    "# CSV 저장\n",
    "with open('kakao_comments1.csv', 'w', newline='', encoding='utf-8-sig') as f:\n",
    "    writer = csv.writer(f)\n",
    "    writer.writerow(['댓글', '화수'])\n",
    "    writer.writerows(results)\n",
    "\n",
    "driver.quit()\n",
    "print(\"CSV 저장 완료\")"
   ]
  }
 ],
 "metadata": {
  "kernelspec": {
   "display_name": "Python 3 (ipykernel)",
   "language": "python",
   "name": "python3"
  },
  "language_info": {
   "codemirror_mode": {
    "name": "ipython",
    "version": 3
   },
   "file_extension": ".py",
   "mimetype": "text/x-python",
   "name": "python",
   "nbconvert_exporter": "python",
   "pygments_lexer": "ipython3",
   "version": "3.9.7"
  }
 },
 "nbformat": 4,
 "nbformat_minor": 5
}
