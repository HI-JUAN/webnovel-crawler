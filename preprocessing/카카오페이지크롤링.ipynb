{
 "cells": [
  {
   "cell_type": "code",
   "execution_count": 9,
   "id": "2a46b889",
   "metadata": {},
   "outputs": [
    {
     "ename": "ModuleNotFoundError",
     "evalue": "No module named 'selenium'",
     "output_type": "error",
     "traceback": [
      "\u001b[31m---------------------------------------------------------------------------\u001b[39m",
      "\u001b[31mModuleNotFoundError\u001b[39m                       Traceback (most recent call last)",
      "\u001b[36mCell\u001b[39m\u001b[36m \u001b[39m\u001b[32mIn[9]\u001b[39m\u001b[32m, line 1\u001b[39m\n\u001b[32m----> \u001b[39m\u001b[32m1\u001b[39m \u001b[38;5;28;01mfrom\u001b[39;00m\u001b[38;5;250m \u001b[39m\u001b[34;01mselenium\u001b[39;00m\u001b[38;5;250m \u001b[39m\u001b[38;5;28;01mimport\u001b[39;00m webdriver\n\u001b[32m      2\u001b[39m \u001b[38;5;28;01mfrom\u001b[39;00m\u001b[38;5;250m \u001b[39m\u001b[34;01mselenium\u001b[39;00m\u001b[34;01m.\u001b[39;00m\u001b[34;01mwebdriver\u001b[39;00m\u001b[34;01m.\u001b[39;00m\u001b[34;01mcommon\u001b[39;00m\u001b[34;01m.\u001b[39;00m\u001b[34;01mby\u001b[39;00m\u001b[38;5;250m \u001b[39m\u001b[38;5;28;01mimport\u001b[39;00m By\n\u001b[32m      3\u001b[39m \u001b[38;5;28;01mfrom\u001b[39;00m\u001b[38;5;250m \u001b[39m\u001b[34;01mselenium\u001b[39;00m\u001b[34;01m.\u001b[39;00m\u001b[34;01mwebdriver\u001b[39;00m\u001b[34;01m.\u001b[39;00m\u001b[34;01mchrome\u001b[39;00m\u001b[34;01m.\u001b[39;00m\u001b[34;01mservice\u001b[39;00m\u001b[38;5;250m \u001b[39m\u001b[38;5;28;01mimport\u001b[39;00m Service\n",
      "\u001b[31mModuleNotFoundError\u001b[39m: No module named 'selenium'"
     ]
    }
   ],
   "source": [
    "from selenium import webdriver\n",
    "from selenium.webdriver.common.by import By\n",
    "from selenium.webdriver.chrome.service import Service\n",
    "from selenium.common.exceptions import NoSuchElementException, ElementNotInteractableException\n",
    "from tqdm import tqdm\n",
    "import time\n",
    "\n",
    "# 1. 드라이버 설정\n",
    "chrome_driver_path = 'chromedriver.exe'\n",
    "options = webdriver.ChromeOptions()\n",
    "options.add_argument('--headless')  # ✅ Jupyter용\n",
    "options.add_argument('--disable-gpu')\n",
    "options.add_argument('--no-sandbox')\n",
    "options.add_argument('--window-size=1920,1080')\n",
    "\n",
    "driver = webdriver.Chrome(service=Service(chrome_driver_path), options=options)\n",
    "driver.get(\"https://page.kakao.com/content/48787313\")\n",
    "time.sleep(5)\n",
    "\n",
    "# 2. 목표 개수 & 저장소\n",
    "MAX_COMMENTS = 100\n",
    "all_comments = set()\n",
    "\n",
    "# 3. tqdm 프로그레스바 생성 (한 번만)\n",
    "progress_bar = tqdm(total=MAX_COMMENTS, desc=\"댓글 수집 중\", unit=\"개\")\n",
    "\n",
    "# 4. 수집 루프\n",
    "while True:\n",
    "    time.sleep(2)\n",
    "\n",
    "    # 댓글 수집\n",
    "    comment_elements = driver.find_elements(\n",
    "        By.XPATH,\n",
    "        '//span[contains(@class, \"font-medium2\") and contains(@class, \"whitespace-pre-wrap\")]'\n",
    "    )\n",
    "\n",
    "    for elem in comment_elements:\n",
    "        text = elem.text.strip()\n",
    "        if text and text not in all_comments:\n",
    "            all_comments.add(text)\n",
    "            tqdm.write(f\"[{len(all_comments)}] {text}\")\n",
    "            progress_bar.update(1)\n",
    "\n",
    "        if len(all_comments) >= MAX_COMMENTS:\n",
    "            progress_bar.close()\n",
    "            print(\"\\n✅ 댓글 100개 수집 완료. 종료합니다.\")\n",
    "            break  # ✅ exit() 대신 break\n",
    "\n",
    "    if len(all_comments) >= MAX_COMMENTS:\n",
    "        break\n",
    "\n",
    "    # 5. 다음 버튼 XPath 계산\n",
    "    button_index = len(all_comments) + 1\n",
    "    xpath = f'//*[@id=\"__next\"]/div/div[2]/div[1]/div/div[2]/div[2]/div[3]/div/div[2]/div[{button_index}]'\n",
    "\n",
    "    try:\n",
    "        next_button = driver.find_element(By.XPATH, xpath)\n",
    "        driver.execute_script(\"arguments[0].scrollIntoView(true);\", next_button)\n",
    "        time.sleep(1)\n",
    "        driver.execute_script(\"arguments[0].click();\", next_button)\n",
    "        tqdm.write(\"🔁 다음 댓글 페이지 로딩 중...\\n\")\n",
    "        time.sleep(3)\n",
    "    except (NoSuchElementException, ElementNotInteractableException):\n",
    "        tqdm.write(\"❌ 더 이상 다음 버튼이 없거나 클릭 불가. 종료합니다.\")\n",
    "        break\n",
    "\n",
    "# 종료\n",
    "progress_bar.close()\n",
    "driver.quit()"
   ]
  }
 ],
 "metadata": {
  "kernelspec": {
   "display_name": ".venv",
   "language": "python",
   "name": "python3"
  },
  "language_info": {
   "codemirror_mode": {
    "name": "ipython",
    "version": 3
   },
   "file_extension": ".py",
   "mimetype": "text/x-python",
   "name": "python",
   "nbconvert_exporter": "python",
   "pygments_lexer": "ipython3",
   "version": "3.13.3"
  }
 },
 "nbformat": 4,
 "nbformat_minor": 5
}
